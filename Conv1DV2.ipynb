{
 "cells": [
  {
   "cell_type": "code",
   "execution_count": null,
   "metadata": {},
   "outputs": [],
   "source": [
    "import h5py\n",
    "import matplotlib.pyplot as plt\n",
    "import numpy as np\n",
    "import tensorflow as tf\n",
    "# from https://github.com/hauser-group/odft_tools\n",
    "from odft_tools.models_ccnn import (\n",
    "    ClassicCNN,\n",
    "    ContCNNModel\n",
    ")\n",
    "\n",
    "from odft_tools.layers import (\n",
    "    IntegrateLayer,\n",
    "    Continuous1DConvV1,\n",
    "    Continuous1DConv\n",
    ")\n",
    "\n",
    "from odft_tools.utils import (\n",
    "    plot_gaussian_weights_v2,\n",
    "    plot_derivative_energy\n",
    ")\n",
    "\n",
    "data_path = '../datasets/orbital_free_DFT/'"
   ]
  },
  {
   "cell_type": "markdown",
   "metadata": {},
   "source": [
    "# Load dataset\n",
    "Both data .hdf5-Files can be downloaded from https://github.com/hauser-group/datasets/tree/master/orbital_free_DFT"
   ]
  },
  {
   "cell_type": "markdown",
   "metadata": {},
   "source": [
    "### Training"
   ]
  },
  {
   "cell_type": "code",
   "execution_count": null,
   "metadata": {},
   "outputs": [],
   "source": [
    "with h5py.File(data_path + 'M=100_training_data.hdf5', 'r') as f:\n",
    "    keys = f.keys()\n",
    "    print(keys)\n",
    "    # build a dict (dataset.value has been deprecated. Use dataset[()] instead.)\n",
    "    data = {key:f[key][()] for key in keys}"
   ]
  },
  {
   "cell_type": "code",
   "execution_count": null,
   "metadata": {},
   "outputs": [],
   "source": [
    "x = np.linspace(0, 1, 500)\n",
    "dx = x[1] - x[0]\n",
    "N = 1\n",
    "# density is wavefunction squared\n",
    "n = np.sum(data['wavefunctions'][:, :, :N]**2, axis=-1)\n",
    "# integrate using trapezoidal rule:\n",
    "V = np.sum(0.5*(data['potential'][:, :-1]*n[:, :-1] \n",
    "                + data['potential'][:, 1:]*n[:, 1:])           \n",
    "           * dx, axis=-1)\n",
    "# kinetic energy is total energy minus potential energy\n",
    "T = np.sum(data['energies'][:, :N], axis=-1) - V\n",
    "# kinetic energy derivative\n",
    "dT_dn = np.expand_dims(np.sum(data['energies'][:, :N], axis=-1)/N, axis=-1) - data['potential']\n",
    "n = n.reshape((-1, 500, 1))"
   ]
  },
  {
   "cell_type": "markdown",
   "metadata": {},
   "source": [
    "### Test Set"
   ]
  },
  {
   "cell_type": "code",
   "execution_count": null,
   "metadata": {},
   "outputs": [],
   "source": [
    "with h5py.File(data_path + 'test_data.hdf5', 'r') as f:\n",
    "    keys = f.keys()\n",
    "    print(keys)\n",
    "    # build a dict (dataset.value has been deprecated. Use dataset[()] instead.)\n",
    "    data_test = {key:f[key][()] for key in keys}"
   ]
  },
  {
   "cell_type": "code",
   "execution_count": null,
   "metadata": {},
   "outputs": [],
   "source": [
    "# density is wavefunction squared\n",
    "n_test = np.sum(data_test['wavefunctions'][:, :, :N]**2, axis=-1)\n",
    "# integrate using trapezoidal rule:\n",
    "V_test = np.sum(0.5*(data_test['potential'][:, :-1]*n_test[:, :-1] \n",
    "                + data_test['potential'][:, 1:]*n_test[:, 1:])           \n",
    "                * dx, axis=-1)\n",
    "# kinetic energy is total energy minus potential energy\n",
    "T_test = np.sum(data_test['energies'][:, :N], axis=-1) - V_test\n",
    "# kinetic energy derivative\n",
    "dT_dn_test = - data_test['potential'] + np.expand_dims(np.sum(data_test['energies'][:, :N], axis=-1)/N, axis=-1) \n",
    "n_test = n_test.reshape((-1, 500, 1))"
   ]
  },
  {
   "cell_type": "markdown",
   "metadata": {},
   "source": [
    "# Define model"
   ]
  },
  {
   "cell_type": "code",
   "execution_count": null,
   "metadata": {},
   "outputs": [],
   "source": [
    "kernel_size = 100\n",
    "weight_0 = 5\n",
    "weight_1 = 20\n",
    "# Feel free to use larger kernel size (Manuel used 100) and larger networks (Manuels ResNet used layers=[32, 32, 32, 32, 32, 32]).\n",
    "distribution = 'gaussian' # cauchy, lorentz\n",
    "model = ContCNNModel(layers=[32, ], kernel_size=kernel_size, dx=dx, weights=[weight_0, weight_1, 1], distribution=distribution)\n",
    "# Tell the model what input to expect. The first dimension (None) represents the batch size and remains undefinded.\n",
    "model.build(input_shape=(None, 500, 1))\n",
    "\n",
    "model.compile(optimizer=tf.keras.optimizers.Adam(learning_rate=1e-2), \n",
    "              loss={'T': 'mse', 'dT_dn': 'mse'}, \n",
    "              loss_weights={'T': 0.2, 'dT_dn': 1.0}, # As recommended by Manuel: scale the loss in T by 0.2\n",
    "              metrics={'T': ['mae'], 'dT_dn': ['mae']})\n",
    "model.summary()"
   ]
  },
  {
   "cell_type": "code",
   "execution_count": null,
   "metadata": {},
   "outputs": [],
   "source": [
    "# Build a dataset that repeats the data (cast to float32) 10 times to reduce output in model.fit().\n",
    "# Note that this step is not necessary, you could simply feed the numpy arrays into the model.fit() method.\n",
    "training_dataset = tf.data.Dataset.from_tensor_slices((n.astype(np.float32), {'T': T.astype(np.float32), 'dT_dn': dT_dn.astype(np.float32)})).batch(100).repeat(10)\n",
    "\n",
    "result_type = '/ContCNNV1/32_1/'"
   ]
  },
  {
   "cell_type": "code",
   "execution_count": null,
   "metadata": {},
   "outputs": [],
   "source": [
    "# Beware when comparing the results to our paper. The output here is in Hartree!\n",
    "weights_before_train = model.layers[0].get_weights()[0]\n",
    "plot_gaussian_weights_v2(weights_before_train, weight_0, weight_1, kernel_size, ' before')\n",
    "\n",
    "model.fit(training_dataset, epochs=100, verbose=2, validation_data=(n_test, {'T': T_test, 'dT_dn': dT_dn_test}), validation_freq=10)\n",
    "weights_after_train = model.layers[0].get_weights()[0]"
   ]
  },
  {
   "cell_type": "code",
   "execution_count": null,
   "metadata": {},
   "outputs": [],
   "source": [
    "def plot_gaussian_weights_v1(weights, result_type, before_after):\n",
    "    plt.ylabel('density')\n",
    "    plt.xlabel('kernel size')\n",
    "    plt.title('First Layer of CCNN '+ before_after +' train')\n",
    "    plt.plot(weights[:, 0, :])\n",
    "    plt.savefig('layer_ccnV1_'+ before_after +'.png')\n",
    "    plt.show()\n",
    "    \n",
    "    \n",
    "def plot_gaussian_weights_v2(weights, mean, stddev, kernel_size, before_after):\n",
    "    truncate = kernel_size/2\n",
    "\n",
    "    width = int(truncate + 0.5)\n",
    "    support = np.arange(-width, width + 1)\n",
    "    center = int(len(support)/2)\n",
    "\n",
    "    left_cut = center - int(kernel_size/2)\n",
    "    right_cut = center + int(kernel_size/2)\n",
    "\n",
    "    for mean, stddev in zip(weights[0][0], weights[1][0]):\n",
    "        gauss_kernel = np.exp(-((support - mean) ** 2)/(2*stddev ** 2))\n",
    "        gauss_kernel = gauss_kernel / gauss_kernel.sum()\n",
    "\n",
    "        if (kernel_size % 2) != 0:\n",
    "            gauss_kernel = gauss_kernel[left_cut + 1:right_cut + 2]\n",
    "        else:\n",
    "            gauss_kernel = gauss_kernel[left_cut + 1:right_cut + 1]\n",
    "        plt.plot(gauss_kernel)\n",
    "    plt.ylabel('density')\n",
    "    plt.xlabel('kernel size')\n",
    "    plt.title('First Layer of CCNN '+ before_after +' train')\n",
    "    plt.savefig('layer_ccnV2_'+ before_after +'.png')\n",
    "\n",
    "    plt.show()\n",
    "\n",
    "import os\n",
    "def plot_derivative_energy(x, dT_dn, model, n, result_type):\n",
    "    if not os.path.exists('results' + result_type):\n",
    "        os.makedirs('results' + result_type)\n",
    "\n",
    "    plt.plot(x, dT_dn[0])\n",
    "    plt.plot(x, tf.squeeze(model(n[0].reshape((1, 500, 1)).astype(np.float32))['dT_dn']))\n",
    "    plt.ylabel('dT_dn')\n",
    "    plt.title('Comparison reference with trained energy derivative')\n",
    "    plt.savefig('ccnnV2_energy_derivatice.png')\n",
    "    plt.show()\n",
    "\n",
    "plot_gaussian_weights_v2(weights_before_train, weight_0, weight_1, kernel_size, ' before')\n",
    "plot_gaussian_weights_v2(weights_after_train, weight_0, weight_1, kernel_size, ' after')\n",
    "\n",
    "plot_derivative_energy(x, dT_dn, model, n, result_type)"
   ]
  },
  {
   "cell_type": "markdown",
   "metadata": {},
   "source": [
    "## Inspect results\n",
    "The prediction by the CNN exhibits rapid oscillations, which we hope to eliminate by going from a convolution with a discrete kernel towards a convolution with a continuous function"
   ]
  },
  {
   "cell_type": "code",
   "execution_count": null,
   "metadata": {},
   "outputs": [],
   "source": [
    "plt.plot(x, dT_dn[0])\n",
    "plt.plot(x, tf.squeeze(model(n[0].reshape((1, 500, 1)).astype(np.float32))['dT_dn']))\n",
    "plt.ylabel('dT_dn')\n",
    "plt.title('Comparison reference with trained')\n",
    "# plt.savefig('results' + result_type + 'dT_dn_V1.png')\n",
    "plt.show()"
   ]
  },
  {
   "cell_type": "code",
   "execution_count": null,
   "metadata": {},
   "outputs": [],
   "source": [
    "plot_gaussian_weights_v2(weights_before_train, mean, stddev, kernel_size, ' before')\n",
    "plot_gaussian_weights_v2(weights_after_train, mean, stddev, kernel_size, ' after')\n",
    "plot_derivative_energy(x, dT_dn, model, n, result_type)"
   ]
  },
  {
   "cell_type": "code",
   "execution_count": null,
   "metadata": {},
   "outputs": [],
   "source": [
    "import pandas as pd\n",
    "df = pd.DataFrame([])\n",
    "df['loss'] = model.history.history['loss']\n",
    "df['dT_dn_loss'] = model.history.history['dT_dn_loss']\n",
    "df['T_loss'] = model.history.history['T_loss']\n",
    "\n",
    "plt.figure(figsize=(20, 3))\n",
    "\n",
    "plt.plot(df['loss'])\n",
    "plt.xlabel('epochs')\n",
    "plt.ylabel('loss a.u.')\n",
    "plt.title('loss over epochs for CCNN')\n",
    "plt.savefig('loss_CNN.png')\n",
    "plt.show()"
   ]
  }
 ],
 "metadata": {
  "kernelspec": {
   "display_name": "Python 3",
   "language": "python",
   "name": "python3"
  },
  "language_info": {
   "codemirror_mode": {
    "name": "ipython",
    "version": 3
   },
   "file_extension": ".py",
   "mimetype": "text/x-python",
   "name": "python",
   "nbconvert_exporter": "python",
   "pygments_lexer": "ipython3",
   "version": "3.8.7"
  }
 },
 "nbformat": 4,
 "nbformat_minor": 4
}
