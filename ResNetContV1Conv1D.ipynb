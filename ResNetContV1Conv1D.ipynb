{
 "cells": [
  {
   "cell_type": "code",
   "execution_count": 1,
   "metadata": {},
   "outputs": [],
   "source": [
    "import h5py\n",
    "import matplotlib.pyplot as plt\n",
    "import numpy as np\n",
    "import tensorflow as tf\n",
    "from pathlib import Path\n",
    "import os\n",
    "\n",
    "# from https://github.com/hauser-group/odft_tools\n",
    "from odft_tools.layers import (\n",
    "    IntegrateLayer,\n",
    "    Continuous1DConvV1\n",
    ")\n",
    "\n",
    "from odft_tools.models_resnet_ccn import (\n",
    "    ResNetContConv1DModel,\n",
    "    ResNetContConv1DV2Model,\n",
    "    ResNetConv1DModel\n",
    ")\n",
    "\n",
    "from odft_tools.utils import (\n",
    "    plot_derivative_energy,\n",
    "    plot_gaussian_weights_v1\n",
    ")\n",
    "\n",
    "from odft_tools.keras_utils import (\n",
    "    WarmupExponentialDecay\n",
    ")\n",
    "\n",
    "from tensorflow.python.framework import dtypes\n",
    "import random\n",
    "\n",
    "data_path = '../datasets/orbital_free_DFT/'"
   ]
  },
  {
   "cell_type": "code",
   "execution_count": 2,
   "metadata": {},
   "outputs": [
    {
     "name": "stdout",
     "output_type": "stream",
     "text": [
      "<KeysViewHDF5 ['energies', 'potential', 'wavefunctions']>\n"
     ]
    }
   ],
   "source": [
    "with h5py.File(data_path + 'dataset_large.hdf5', 'r') as f:\n",
    "    keys = f.keys()\n",
    "    print(keys)\n",
    "    # build a dict (dataset.value has been deprecated. Use dataset[()] instead.)\n",
    "    data = {key:f[key][()] for key in keys}"
   ]
  },
  {
   "cell_type": "code",
   "execution_count": 3,
   "metadata": {},
   "outputs": [],
   "source": [
    "x = np.linspace(0, 1, 500)\n",
    "dx = x[1] - x[0]\n",
    "N = 1\n",
    "# density is wavefunction squared\n",
    "n = np.sum(data['wavefunctions'][:, :, :N]**2, axis=-1)\n",
    "# integrate using trapezoidal rule:\n",
    "V = np.sum(0.5*(data['potential'][:, :-1]*n[:, :-1] \n",
    "                + data['potential'][:, 1:]*n[:, 1:])           \n",
    "           * dx, axis=-1)\n",
    "# kinetic energy is total energy minus potential energy\n",
    "T = np.sum(data['energies'][:, :N], axis=-1) - V\n",
    "# kinetic energy derivative\n",
    "dT_dn = np.expand_dims(np.sum(data['energies'][:, :N], axis=-1)/N, axis=-1) - data['potential']\n",
    "n = n.reshape((-1, 500))"
   ]
  },
  {
   "cell_type": "markdown",
   "metadata": {},
   "source": [
    "### Test Set"
   ]
  },
  {
   "cell_type": "code",
   "execution_count": 4,
   "metadata": {},
   "outputs": [
    {
     "name": "stdout",
     "output_type": "stream",
     "text": [
      "<KeysViewHDF5 ['energies', 'potential', 'wavefunctions']>\n"
     ]
    }
   ],
   "source": [
    "with h5py.File(data_path + 'dataset_validate.hdf5', 'r') as f:\n",
    "    keys = f.keys()\n",
    "    print(keys)\n",
    "    # build a dict (dataset.value has been deprecated. Use dataset[()] instead.)\n",
    "    data_test = {key:f[key][()] for key in keys}"
   ]
  },
  {
   "cell_type": "code",
   "execution_count": 5,
   "metadata": {},
   "outputs": [],
   "source": [
    "# density is wavefunction squared\n",
    "n_test = np.sum(data_test['wavefunctions'][:, :, :N]**2, axis=-1)\n",
    "# integrate using trapezoidal rule:\n",
    "V_test = np.sum(0.5*(data_test['potential'][:, :-1]*n_test[:, :-1] \n",
    "                + data_test['potential'][:, 1:]*n_test[:, 1:])           \n",
    "                * dx, axis=-1)\n",
    "# kinetic energy is total energy minus potential energy\n",
    "T_test = np.sum(data_test['energies'][:, :N], axis=-1) - V_test\n",
    "# kinetic energy derivative\n",
    "dT_dn_test = - data_test['potential'] + np.expand_dims(np.sum(data_test['energies'][:, :N], axis=-1)/N, axis=-1) \n",
    "n_test = n_test.reshape((-1, 500))"
   ]
  },
  {
   "cell_type": "code",
   "execution_count": 6,
   "metadata": {},
   "outputs": [
    {
     "name": "stdout",
     "output_type": "stream",
     "text": [
      "--------------------------------->Start<---------------------------------\n",
      "No Cont Layer. res_net 4 with 50\n",
      "Model: \"model\"\n",
      "__________________________________________________________________________________________________\n",
      "Layer (type)                    Output Shape         Param #     Connected to                     \n",
      "==================================================================================================\n",
      "density (InputLayer)            [(None, 500)]        0                                            \n",
      "__________________________________________________________________________________________________\n",
      "lambda (Lambda)                 (None, 500, 1)       0           density[0][0]                    \n",
      "__________________________________________________________________________________________________\n",
      "continuous1d_conv_v1 (Continuou (None, 500, 32)      3232        lambda[0][0]                     \n",
      "__________________________________________________________________________________________________\n",
      "Conv1D_noact_0 (Conv1D)         (None, 500, 32)      102432      continuous1d_conv_v1[0][0]       \n",
      "__________________________________________________________________________________________________\n",
      "add (Add)                       (None, 500, 32)      0           Conv1D_noact_0[0][0]             \n",
      "                                                                 lambda[0][0]                     \n",
      "__________________________________________________________________________________________________\n",
      "act0 (Activation)               (None, 500, 32)      0           add[0][0]                        \n",
      "__________________________________________________________________________________________________\n",
      "Conv1D_act_1 (Conv1D)           (None, 500, 32)      102432      act0[0][0]                       \n",
      "__________________________________________________________________________________________________\n",
      "Conv1D_noact_1 (Conv1D)         (None, 500, 32)      102432      Conv1D_act_1[0][0]               \n",
      "__________________________________________________________________________________________________\n",
      "add_1 (Add)                     (None, 500, 32)      0           Conv1D_noact_1[0][0]             \n",
      "                                                                 act0[0][0]                       \n",
      "__________________________________________________________________________________________________\n",
      "act1 (Activation)               (None, 500, 32)      0           add_1[0][0]                      \n",
      "__________________________________________________________________________________________________\n",
      "Conv1D_act_2 (Conv1D)           (None, 500, 32)      102432      act1[0][0]                       \n",
      "__________________________________________________________________________________________________\n",
      "Conv1D_noact_2 (Conv1D)         (None, 500, 32)      102432      Conv1D_act_2[0][0]               \n",
      "__________________________________________________________________________________________________\n",
      "add_2 (Add)                     (None, 500, 32)      0           Conv1D_noact_2[0][0]             \n",
      "                                                                 act1[0][0]                       \n",
      "__________________________________________________________________________________________________\n",
      "act2 (Activation)               (None, 500, 32)      0           add_2[0][0]                      \n",
      "__________________________________________________________________________________________________\n",
      "Conv1D_act_3 (Conv1D)           (None, 500, 32)      102432      act2[0][0]                       \n",
      "__________________________________________________________________________________________________\n",
      "Conv1D_noact_3 (Conv1D)         (None, 500, 32)      102432      Conv1D_act_3[0][0]               \n",
      "__________________________________________________________________________________________________\n",
      "add_3 (Add)                     (None, 500, 32)      0           Conv1D_noact_3[0][0]             \n",
      "                                                                 act2[0][0]                       \n",
      "__________________________________________________________________________________________________\n",
      "act3 (Activation)               (None, 500, 32)      0           add_3[0][0]                      \n",
      "__________________________________________________________________________________________________\n",
      "Conv1D_end_3 (Conv1D)           (None, 500, 1)       3201        act3[0][0]                       \n",
      "__________________________________________________________________________________________________\n",
      "dT_dn (Lambda)                  (None, 500)          0           Conv1D_end_3[0][0]               \n",
      "__________________________________________________________________________________________________\n",
      "integrate_layer (IntegrateLayer (None,)              0           dT_dn[0][0]                      \n",
      "==================================================================================================\n",
      "Total params: 723,457\n",
      "Trainable params: 723,457\n",
      "Non-trainable params: 0\n",
      "__________________________________________________________________________________________________\n",
      "Epoch 1/50\n"
     ]
    },
    {
     "ename": "KeyboardInterrupt",
     "evalue": "",
     "output_type": "error",
     "traceback": [
      "\u001b[0;31m---------------------------------------------------------------------------\u001b[0m",
      "\u001b[0;31mKeyboardInterrupt\u001b[0m                         Traceback (most recent call last)",
      "\u001b[0;32m<ipython-input-6-67609348854c>\u001b[0m in \u001b[0;36m<module>\u001b[0;34m\u001b[0m\n\u001b[1;32m     51\u001b[0m \u001b[0mmodel\u001b[0m\u001b[0;34m.\u001b[0m\u001b[0mmodels\u001b[0m\u001b[0;34m.\u001b[0m\u001b[0msummary\u001b[0m\u001b[0;34m(\u001b[0m\u001b[0;34m)\u001b[0m\u001b[0;34m\u001b[0m\u001b[0;34m\u001b[0m\u001b[0m\n\u001b[1;32m     52\u001b[0m \u001b[0mweights_before_train\u001b[0m \u001b[0;34m=\u001b[0m \u001b[0mmodel\u001b[0m\u001b[0;34m.\u001b[0m\u001b[0mlayers\u001b[0m\u001b[0;34m[\u001b[0m\u001b[0;36m0\u001b[0m\u001b[0;34m]\u001b[0m\u001b[0;34m.\u001b[0m\u001b[0mget_weights\u001b[0m\u001b[0;34m(\u001b[0m\u001b[0;34m)\u001b[0m\u001b[0;34m[\u001b[0m\u001b[0;36m0\u001b[0m\u001b[0;34m]\u001b[0m\u001b[0;34m\u001b[0m\u001b[0;34m\u001b[0m\u001b[0m\n\u001b[0;32m---> 53\u001b[0;31m \u001b[0mmodel\u001b[0m\u001b[0;34m.\u001b[0m\u001b[0mfit\u001b[0m\u001b[0;34m(\u001b[0m\u001b[0mx\u001b[0m\u001b[0;34m=\u001b[0m\u001b[0mdensity\u001b[0m\u001b[0;34m,\u001b[0m \u001b[0my\u001b[0m\u001b[0;34m=\u001b[0m\u001b[0mtargetdata\u001b[0m\u001b[0;34m,\u001b[0m \u001b[0mepochs\u001b[0m\u001b[0;34m=\u001b[0m\u001b[0mepoch\u001b[0m\u001b[0;34m,\u001b[0m \u001b[0mverbose\u001b[0m\u001b[0;34m=\u001b[0m\u001b[0;36m2\u001b[0m\u001b[0;34m,\u001b[0m \u001b[0mvalidation_data\u001b[0m\u001b[0;34m=\u001b[0m\u001b[0;34m(\u001b[0m\u001b[0mn_test\u001b[0m\u001b[0;34m,\u001b[0m \u001b[0;34m{\u001b[0m\u001b[0;34m'T'\u001b[0m\u001b[0;34m:\u001b[0m \u001b[0mT_test\u001b[0m\u001b[0;34m,\u001b[0m \u001b[0;34m'dT_dn'\u001b[0m\u001b[0;34m:\u001b[0m \u001b[0mdT_dn_test\u001b[0m\u001b[0;34m}\u001b[0m\u001b[0;34m)\u001b[0m\u001b[0;34m,\u001b[0m \u001b[0mvalidation_freq\u001b[0m\u001b[0;34m=\u001b[0m\u001b[0;36m10\u001b[0m\u001b[0;34m)\u001b[0m\u001b[0;34m\u001b[0m\u001b[0;34m\u001b[0m\u001b[0m\n\u001b[0m\u001b[1;32m     54\u001b[0m \u001b[0mweights_after_train\u001b[0m \u001b[0;34m=\u001b[0m \u001b[0mmodel\u001b[0m\u001b[0;34m.\u001b[0m\u001b[0mlayers\u001b[0m\u001b[0;34m[\u001b[0m\u001b[0;36m0\u001b[0m\u001b[0;34m]\u001b[0m\u001b[0;34m.\u001b[0m\u001b[0mget_weights\u001b[0m\u001b[0;34m(\u001b[0m\u001b[0;34m)\u001b[0m\u001b[0;34m[\u001b[0m\u001b[0;36m0\u001b[0m\u001b[0;34m]\u001b[0m\u001b[0;34m\u001b[0m\u001b[0;34m\u001b[0m\u001b[0m\n\u001b[1;32m     55\u001b[0m \u001b[0mprint\u001b[0m\u001b[0;34m(\u001b[0m\u001b[0;34m'--------------------------------->END<---------------------------------'\u001b[0m\u001b[0;34m)\u001b[0m\u001b[0;34m\u001b[0m\u001b[0;34m\u001b[0m\u001b[0m\n",
      "\u001b[0;32m~/repos/hauser_group/odft_tools/env/lib64/python3.8/site-packages/tensorflow/python/keras/engine/training.py\u001b[0m in \u001b[0;36mfit\u001b[0;34m(self, x, y, batch_size, epochs, verbose, callbacks, validation_split, validation_data, shuffle, class_weight, sample_weight, initial_epoch, steps_per_epoch, validation_steps, validation_batch_size, validation_freq, max_queue_size, workers, use_multiprocessing)\u001b[0m\n\u001b[1;32m   1098\u001b[0m                 _r=1):\n\u001b[1;32m   1099\u001b[0m               \u001b[0mcallbacks\u001b[0m\u001b[0;34m.\u001b[0m\u001b[0mon_train_batch_begin\u001b[0m\u001b[0;34m(\u001b[0m\u001b[0mstep\u001b[0m\u001b[0;34m)\u001b[0m\u001b[0;34m\u001b[0m\u001b[0;34m\u001b[0m\u001b[0m\n\u001b[0;32m-> 1100\u001b[0;31m               \u001b[0mtmp_logs\u001b[0m \u001b[0;34m=\u001b[0m \u001b[0mself\u001b[0m\u001b[0;34m.\u001b[0m\u001b[0mtrain_function\u001b[0m\u001b[0;34m(\u001b[0m\u001b[0miterator\u001b[0m\u001b[0;34m)\u001b[0m\u001b[0;34m\u001b[0m\u001b[0;34m\u001b[0m\u001b[0m\n\u001b[0m\u001b[1;32m   1101\u001b[0m               \u001b[0;32mif\u001b[0m \u001b[0mdata_handler\u001b[0m\u001b[0;34m.\u001b[0m\u001b[0mshould_sync\u001b[0m\u001b[0;34m:\u001b[0m\u001b[0;34m\u001b[0m\u001b[0;34m\u001b[0m\u001b[0m\n\u001b[1;32m   1102\u001b[0m                 \u001b[0mcontext\u001b[0m\u001b[0;34m.\u001b[0m\u001b[0masync_wait\u001b[0m\u001b[0;34m(\u001b[0m\u001b[0;34m)\u001b[0m\u001b[0;34m\u001b[0m\u001b[0;34m\u001b[0m\u001b[0m\n",
      "\u001b[0;32m~/repos/hauser_group/odft_tools/env/lib64/python3.8/site-packages/tensorflow/python/eager/def_function.py\u001b[0m in \u001b[0;36m__call__\u001b[0;34m(self, *args, **kwds)\u001b[0m\n\u001b[1;32m    826\u001b[0m     \u001b[0mtracing_count\u001b[0m \u001b[0;34m=\u001b[0m \u001b[0mself\u001b[0m\u001b[0;34m.\u001b[0m\u001b[0mexperimental_get_tracing_count\u001b[0m\u001b[0;34m(\u001b[0m\u001b[0;34m)\u001b[0m\u001b[0;34m\u001b[0m\u001b[0;34m\u001b[0m\u001b[0m\n\u001b[1;32m    827\u001b[0m     \u001b[0;32mwith\u001b[0m \u001b[0mtrace\u001b[0m\u001b[0;34m.\u001b[0m\u001b[0mTrace\u001b[0m\u001b[0;34m(\u001b[0m\u001b[0mself\u001b[0m\u001b[0;34m.\u001b[0m\u001b[0m_name\u001b[0m\u001b[0;34m)\u001b[0m \u001b[0;32mas\u001b[0m \u001b[0mtm\u001b[0m\u001b[0;34m:\u001b[0m\u001b[0;34m\u001b[0m\u001b[0;34m\u001b[0m\u001b[0m\n\u001b[0;32m--> 828\u001b[0;31m       \u001b[0mresult\u001b[0m \u001b[0;34m=\u001b[0m \u001b[0mself\u001b[0m\u001b[0;34m.\u001b[0m\u001b[0m_call\u001b[0m\u001b[0;34m(\u001b[0m\u001b[0;34m*\u001b[0m\u001b[0margs\u001b[0m\u001b[0;34m,\u001b[0m \u001b[0;34m**\u001b[0m\u001b[0mkwds\u001b[0m\u001b[0;34m)\u001b[0m\u001b[0;34m\u001b[0m\u001b[0;34m\u001b[0m\u001b[0m\n\u001b[0m\u001b[1;32m    829\u001b[0m       \u001b[0mcompiler\u001b[0m \u001b[0;34m=\u001b[0m \u001b[0;34m\"xla\"\u001b[0m \u001b[0;32mif\u001b[0m \u001b[0mself\u001b[0m\u001b[0;34m.\u001b[0m\u001b[0m_experimental_compile\u001b[0m \u001b[0;32melse\u001b[0m \u001b[0;34m\"nonXla\"\u001b[0m\u001b[0;34m\u001b[0m\u001b[0;34m\u001b[0m\u001b[0m\n\u001b[1;32m    830\u001b[0m       \u001b[0mnew_tracing_count\u001b[0m \u001b[0;34m=\u001b[0m \u001b[0mself\u001b[0m\u001b[0;34m.\u001b[0m\u001b[0mexperimental_get_tracing_count\u001b[0m\u001b[0;34m(\u001b[0m\u001b[0;34m)\u001b[0m\u001b[0;34m\u001b[0m\u001b[0;34m\u001b[0m\u001b[0m\n",
      "\u001b[0;32m~/repos/hauser_group/odft_tools/env/lib64/python3.8/site-packages/tensorflow/python/eager/def_function.py\u001b[0m in \u001b[0;36m_call\u001b[0;34m(self, *args, **kwds)\u001b[0m\n\u001b[1;32m    853\u001b[0m       \u001b[0;31m# In this case we have created variables on the first call, so we run the\u001b[0m\u001b[0;34m\u001b[0m\u001b[0;34m\u001b[0m\u001b[0;34m\u001b[0m\u001b[0m\n\u001b[1;32m    854\u001b[0m       \u001b[0;31m# defunned version which is guaranteed to never create variables.\u001b[0m\u001b[0;34m\u001b[0m\u001b[0;34m\u001b[0m\u001b[0;34m\u001b[0m\u001b[0m\n\u001b[0;32m--> 855\u001b[0;31m       \u001b[0;32mreturn\u001b[0m \u001b[0mself\u001b[0m\u001b[0;34m.\u001b[0m\u001b[0m_stateless_fn\u001b[0m\u001b[0;34m(\u001b[0m\u001b[0;34m*\u001b[0m\u001b[0margs\u001b[0m\u001b[0;34m,\u001b[0m \u001b[0;34m**\u001b[0m\u001b[0mkwds\u001b[0m\u001b[0;34m)\u001b[0m  \u001b[0;31m# pylint: disable=not-callable\u001b[0m\u001b[0;34m\u001b[0m\u001b[0;34m\u001b[0m\u001b[0m\n\u001b[0m\u001b[1;32m    856\u001b[0m     \u001b[0;32melif\u001b[0m \u001b[0mself\u001b[0m\u001b[0;34m.\u001b[0m\u001b[0m_stateful_fn\u001b[0m \u001b[0;32mis\u001b[0m \u001b[0;32mnot\u001b[0m \u001b[0;32mNone\u001b[0m\u001b[0;34m:\u001b[0m\u001b[0;34m\u001b[0m\u001b[0;34m\u001b[0m\u001b[0m\n\u001b[1;32m    857\u001b[0m       \u001b[0;31m# Release the lock early so that multiple threads can perform the call\u001b[0m\u001b[0;34m\u001b[0m\u001b[0;34m\u001b[0m\u001b[0;34m\u001b[0m\u001b[0m\n",
      "\u001b[0;32m~/repos/hauser_group/odft_tools/env/lib64/python3.8/site-packages/tensorflow/python/eager/function.py\u001b[0m in \u001b[0;36m__call__\u001b[0;34m(self, *args, **kwargs)\u001b[0m\n\u001b[1;32m   2940\u001b[0m       (graph_function,\n\u001b[1;32m   2941\u001b[0m        filtered_flat_args) = self._maybe_define_function(args, kwargs)\n\u001b[0;32m-> 2942\u001b[0;31m     return graph_function._call_flat(\n\u001b[0m\u001b[1;32m   2943\u001b[0m         filtered_flat_args, captured_inputs=graph_function.captured_inputs)  # pylint: disable=protected-access\n\u001b[1;32m   2944\u001b[0m \u001b[0;34m\u001b[0m\u001b[0m\n",
      "\u001b[0;32m~/repos/hauser_group/odft_tools/env/lib64/python3.8/site-packages/tensorflow/python/eager/function.py\u001b[0m in \u001b[0;36m_call_flat\u001b[0;34m(self, args, captured_inputs, cancellation_manager)\u001b[0m\n\u001b[1;32m   1916\u001b[0m         and executing_eagerly):\n\u001b[1;32m   1917\u001b[0m       \u001b[0;31m# No tape is watching; skip to running the function.\u001b[0m\u001b[0;34m\u001b[0m\u001b[0;34m\u001b[0m\u001b[0;34m\u001b[0m\u001b[0m\n\u001b[0;32m-> 1918\u001b[0;31m       return self._build_call_outputs(self._inference_function.call(\n\u001b[0m\u001b[1;32m   1919\u001b[0m           ctx, args, cancellation_manager=cancellation_manager))\n\u001b[1;32m   1920\u001b[0m     forward_backward = self._select_forward_and_backward_functions(\n",
      "\u001b[0;32m~/repos/hauser_group/odft_tools/env/lib64/python3.8/site-packages/tensorflow/python/eager/function.py\u001b[0m in \u001b[0;36mcall\u001b[0;34m(self, ctx, args, cancellation_manager)\u001b[0m\n\u001b[1;32m    553\u001b[0m       \u001b[0;32mwith\u001b[0m \u001b[0m_InterpolateFunctionError\u001b[0m\u001b[0;34m(\u001b[0m\u001b[0mself\u001b[0m\u001b[0;34m)\u001b[0m\u001b[0;34m:\u001b[0m\u001b[0;34m\u001b[0m\u001b[0;34m\u001b[0m\u001b[0m\n\u001b[1;32m    554\u001b[0m         \u001b[0;32mif\u001b[0m \u001b[0mcancellation_manager\u001b[0m \u001b[0;32mis\u001b[0m \u001b[0;32mNone\u001b[0m\u001b[0;34m:\u001b[0m\u001b[0;34m\u001b[0m\u001b[0;34m\u001b[0m\u001b[0m\n\u001b[0;32m--> 555\u001b[0;31m           outputs = execute.execute(\n\u001b[0m\u001b[1;32m    556\u001b[0m               \u001b[0mstr\u001b[0m\u001b[0;34m(\u001b[0m\u001b[0mself\u001b[0m\u001b[0;34m.\u001b[0m\u001b[0msignature\u001b[0m\u001b[0;34m.\u001b[0m\u001b[0mname\u001b[0m\u001b[0;34m)\u001b[0m\u001b[0;34m,\u001b[0m\u001b[0;34m\u001b[0m\u001b[0;34m\u001b[0m\u001b[0m\n\u001b[1;32m    557\u001b[0m               \u001b[0mnum_outputs\u001b[0m\u001b[0;34m=\u001b[0m\u001b[0mself\u001b[0m\u001b[0;34m.\u001b[0m\u001b[0m_num_outputs\u001b[0m\u001b[0;34m,\u001b[0m\u001b[0;34m\u001b[0m\u001b[0;34m\u001b[0m\u001b[0m\n",
      "\u001b[0;32m~/repos/hauser_group/odft_tools/env/lib64/python3.8/site-packages/tensorflow/python/eager/execute.py\u001b[0m in \u001b[0;36mquick_execute\u001b[0;34m(op_name, num_outputs, inputs, attrs, ctx, name)\u001b[0m\n\u001b[1;32m     57\u001b[0m   \u001b[0;32mtry\u001b[0m\u001b[0;34m:\u001b[0m\u001b[0;34m\u001b[0m\u001b[0;34m\u001b[0m\u001b[0m\n\u001b[1;32m     58\u001b[0m     \u001b[0mctx\u001b[0m\u001b[0;34m.\u001b[0m\u001b[0mensure_initialized\u001b[0m\u001b[0;34m(\u001b[0m\u001b[0;34m)\u001b[0m\u001b[0;34m\u001b[0m\u001b[0;34m\u001b[0m\u001b[0m\n\u001b[0;32m---> 59\u001b[0;31m     tensors = pywrap_tfe.TFE_Py_Execute(ctx._handle, device_name, op_name,\n\u001b[0m\u001b[1;32m     60\u001b[0m                                         inputs, attrs, num_outputs)\n\u001b[1;32m     61\u001b[0m   \u001b[0;32mexcept\u001b[0m \u001b[0mcore\u001b[0m\u001b[0;34m.\u001b[0m\u001b[0m_NotOkStatusException\u001b[0m \u001b[0;32mas\u001b[0m \u001b[0me\u001b[0m\u001b[0;34m:\u001b[0m\u001b[0;34m\u001b[0m\u001b[0;34m\u001b[0m\u001b[0m\n",
      "\u001b[0;31mKeyboardInterrupt\u001b[0m: "
     ]
    }
   ],
   "source": [
    "kernel_size = 100\n",
    "mean = 5\n",
    "stddev = 5\n",
    "\n",
    "num_res_net_blocks = 4\n",
    "epoch = 50\n",
    "\n",
    "density = {'n': n.astype(np.float32)}\n",
    "targetdata = {'T': T.astype(np.float32), 'dT_dn': dT_dn.astype(np.float32)}\n",
    "\n",
    "# training_dataset = tf.data.Dataset.from_tensor_slices((n.astype(np.float32), {'T': T.astype(np.float32), 'dT_dn': dT_dn.astype(np.float32)})).batch(100).repeat(10)\n",
    "\n",
    "initial_learning_rate = 0.0001\n",
    "decay_steps = 2000\n",
    "decay_rate= 0.9\n",
    "\n",
    "initial_learning_rate = WarmupExponentialDecay(\n",
    "    initial_learning_rate=initial_learning_rate,\n",
    "    decay_steps=decay_steps,\n",
    "    decay_rate=decay_rate,\n",
    "    staircase=False,\n",
    "    name=None\n",
    ")\n",
    "\n",
    "path = '/ResNetConv1D/'\n",
    "\n",
    "\n",
    "seed = 0\n",
    "tf.random.set_seed(seed)\n",
    "\n",
    "model = ResNetContConv1DModel(\n",
    "    filter_size=32,\n",
    "    kernel_size=100,\n",
    "    layer_size=None,\n",
    "    num_res_net_blocks=num_res_net_blocks,\n",
    "    weights_gaus=[5, 5],\n",
    "    n_outputs=None,\n",
    "    random_init=True,\n",
    "    dx=0.002\n",
    ")\n",
    "\n",
    "model.create_res_net_model()\n",
    "model.build(input_shape=(1, 500))\n",
    "model.compile(optimizer=tf.keras.optimizers.Adam(learning_rate=initial_learning_rate, amsgrad=False), \n",
    "              loss={'T': 'mse', 'dT_dn': 'mse'}, \n",
    "              loss_weights={'T': 0.2, 'dT_dn': 1.0}, # As recommended by Manuel: scale the loss in T by 0.2\n",
    "              metrics={'T': ['mae'], 'dT_dn': ['mae']})\n",
    "print('--------------------------------->Start<---------------------------------')\n",
    "print(f'No Cont Layer. res_net {num_res_net_blocks} with {epoch}')\n",
    "\n",
    "model.models.summary()\n",
    "weights_before_train = model.layers[0].get_weights()[0]\n",
    "model.fit(x=density, y=targetdata, epochs=epoch, verbose=2, validation_data=(n_test, {'T': T_test, 'dT_dn': dT_dn_test}), validation_freq=10)\n",
    "weights_after_train = model.layers[0].get_weights()[0]\n",
    "print('--------------------------------->END<---------------------------------')\n"
   ]
  },
  {
   "cell_type": "code",
   "execution_count": null,
   "metadata": {},
   "outputs": [],
   "source": [
    "plot_gaussian_weights_v1(weights_before_train, ' before', path)\n",
    "plot_gaussian_weights_v1(weights_after_train, ' after', path)\n",
    "plot_derivative_energy(x, dT_dn, model, n, path)"
   ]
  },
  {
   "cell_type": "code",
   "execution_count": null,
   "metadata": {},
   "outputs": [],
   "source": [
    "import pandas as pd\n",
    "df = pd.DataFrame([])\n",
    "df['loss'] = model.history.history['loss']\n",
    "df['dT_dn_loss'] = model.history.history['dT_dn_loss']\n",
    "df['T_loss'] = model.history.history['T_loss']\n",
    "\n",
    "df.to_csv('results' + path + '/losses.csv')\n",
    "\n",
    "plt.figure(figsize=(20, 3))\n",
    "\n",
    "plt.plot(df['loss'][1:])\n",
    "plt.xlabel('epochs')\n",
    "plt.ylabel('loss a.u.')\n",
    "plt.title('loss over epochs for ResNet CCNN')\n",
    "plt.savefig('loss_ResNet_CNNV1.png')\n",
    "plt.show()"
   ]
  },
  {
   "cell_type": "code",
   "execution_count": null,
   "metadata": {},
   "outputs": [],
   "source": [
    "def plot_derivative_energy(x, dT_dn, model, n, result_type, ind_from, ind_to, side):\n",
    "    if not os.path.exists('results' + result_type):\n",
    "        os.makedirs('results' + result_type)\n",
    "    x = x[ind_from:ind_to]\n",
    "    plt.plot(x, dT_dn[0][ind_from:ind_to])\n",
    "    plt.plot(x, tf.squeeze(model(n[0].reshape((1, 500, 1)).astype(np.float32))['dT_dn'])[ind_from:ind_to])\n",
    "    plt.ylabel('dT_dn')\n",
    "    plt.title('Comparison reference with trained energy derivative')\n",
    "    plt.show()\n",
    "\n",
    "# plot_derivative_energy(x, dT_dn, model, n, result_type, 0, 80, 'left')\n",
    "# plot_derivative_energy(x, dT_dn, model, n, result_type, 420, 500, 'right')"
   ]
  }
 ],
 "metadata": {
  "kernelspec": {
   "display_name": "Python 3",
   "language": "python",
   "name": "python3"
  },
  "language_info": {
   "codemirror_mode": {
    "name": "ipython",
    "version": 3
   },
   "file_extension": ".py",
   "mimetype": "text/x-python",
   "name": "python",
   "nbconvert_exporter": "python",
   "pygments_lexer": "ipython3",
   "version": "3.8.7"
  }
 },
 "nbformat": 4,
 "nbformat_minor": 4
}
