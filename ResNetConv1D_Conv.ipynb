{
 "cells": [
  {
   "cell_type": "code",
   "execution_count": null,
   "metadata": {},
   "outputs": [],
   "source": [
    "import h5py\n",
    "import matplotlib.pyplot as plt\n",
    "import numpy as np\n",
    "import tensorflow as tf\n",
    "from pathlib import Path\n",
    "import os\n",
    "\n",
    "# from https://github.com/hauser-group/odft_tools\n",
    "from odft_tools.layers import (\n",
    "    IntegrateLayer,\n",
    "    Continuous1DConvV1,\n",
    "    Continuous1DConvV2\n",
    ")\n",
    "\n",
    "from odft_tools.models import (\n",
    "    ResNetContConv1DModel,\n",
    "    ResNetConv1DModel\n",
    ")\n",
    "\n",
    "data_path = '../datasets/orbital_free_DFT/'"
   ]
  },
  {
   "cell_type": "markdown",
   "metadata": {},
   "source": [
    "# Load dataset\n",
    "Both data .hdf5-Files can be downloaded from https://github.com/hauser-group/datasets/tree/master/orbital_free_DFT"
   ]
  },
  {
   "cell_type": "markdown",
   "metadata": {},
   "source": [
    "### Training"
   ]
  },
  {
   "cell_type": "code",
   "execution_count": null,
   "metadata": {},
   "outputs": [],
   "source": [
    "with h5py.File(data_path + 'M=100_training_data.hdf5', 'r') as f:\n",
    "    keys = f.keys()\n",
    "    print(keys)\n",
    "    # build a dict (dataset.value has been deprecated. Use dataset[()] instead.)\n",
    "    data = {key:f[key][()] for key in keys}"
   ]
  },
  {
   "cell_type": "code",
   "execution_count": null,
   "metadata": {},
   "outputs": [],
   "source": [
    "x = np.linspace(0, 1, 500)\n",
    "dx = x[1] - x[0]\n",
    "N = 1\n",
    "# density is wavefunction squared\n",
    "n = np.sum(data['wavefunctions'][:, :, :N]**2, axis=-1)\n",
    "# integrate using trapezoidal rule:\n",
    "V = np.sum(0.5*(data['potential'][:, :-1]*n[:, :-1] \n",
    "                + data['potential'][:, 1:]*n[:, 1:])           \n",
    "           * dx, axis=-1)\n",
    "# kinetic energy is total energy minus potential energy\n",
    "T = np.sum(data['energies'][:, :N], axis=-1) - V\n",
    "# kinetic energy derivative\n",
    "dT_dn = np.expand_dims(np.sum(data['energies'][:, :N], axis=-1)/N, axis=-1) - data['potential']\n",
    "n = n.reshape((-1, 500, 1))"
   ]
  },
  {
   "cell_type": "markdown",
   "metadata": {},
   "source": [
    "### Test Set"
   ]
  },
  {
   "cell_type": "code",
   "execution_count": null,
   "metadata": {},
   "outputs": [],
   "source": [
    "with h5py.File(data_path + 'test_data.hdf5', 'r') as f:\n",
    "    keys = f.keys()\n",
    "    print(keys)\n",
    "    # build a dict (dataset.value has been deprecated. Use dataset[()] instead.)\n",
    "    data_test = {key:f[key][()] for key in keys}"
   ]
  },
  {
   "cell_type": "code",
   "execution_count": null,
   "metadata": {},
   "outputs": [],
   "source": [
    "# density is wavefunction squared\n",
    "n_test = np.sum(data_test['wavefunctions'][:, :, :N]**2, axis=-1)\n",
    "# integrate using trapezoidal rule:\n",
    "V_test = np.sum(0.5*(data_test['potential'][:, :-1]*n_test[:, :-1] \n",
    "                + data_test['potential'][:, 1:]*n_test[:, 1:])           \n",
    "                * dx, axis=-1)\n",
    "# kinetic energy is total energy minus potential energy\n",
    "T_test = np.sum(data_test['energies'][:, :N], axis=-1) - V_test\n",
    "# kinetic energy derivative\n",
    "dT_dn_test = - data_test['potential'] + np.expand_dims(np.sum(data_test['energies'][:, :N], axis=-1)/N, axis=-1) \n",
    "n_test = n_test.reshape((-1, 500, 1))"
   ]
  },
  {
   "cell_type": "code",
   "execution_count": null,
   "metadata": {},
   "outputs": [],
   "source": [
    "def plot_weigts(model, result_type, before_after):\n",
    "    if not os.path.exists('results' + result_type):\n",
    "        os.makedirs('results' + result_type)\n",
    "\n",
    "    weigths = model.layers[0].get_weights()[0]\n",
    "    plt.ylabel('density')\n",
    "    plt.xlabel('kernel size')\n",
    "    plt.title('Gaussian Kernel of ContConv1V1 with Layer softplus act. fun' + before_after)\n",
    "    plt.plot(weigths[:, 0, :])\n",
    "    plt.savefig('results' + result_type + 'gauss_kernel_softplus_act_V1_first_' + before_after + '.png')\n",
    "    plt.show()\n",
    "\n",
    "    weigths = model.layers[1].get_weights()[0]\n",
    "    plt.ylabel('density')\n",
    "    plt.xlabel('kernel size')\n",
    "    plt.title('Gaussian Kernel of ContConv1V1 with Layer linear act. fun_' + before_after)\n",
    "    plt.plot(weigths[:, 0, :])\n",
    "    plt.savefig('results' + result_type + 'gauss_kernel_linear_act_V1_sec_' + before_after + '.png')\n",
    "    plt.show()\n",
    "    \n",
    "def plot_der_energy(x, dT_dn, model, n, result_type):\n",
    "    if not os.path.exists('results' + result_type):\n",
    "        os.makedirs('results' + result_type)\n",
    "\n",
    "    plt.plot(x, dT_dn[0])\n",
    "    plt.plot(x, tf.squeeze(model(n[0].reshape((1, 500, 1)).astype(np.float32))['dT_dn']))\n",
    "    plt.ylabel('dT_dn')\n",
    "    plt.title('Comparison reference with trained')\n",
    "    plt.savefig('results' + result_type + 'dT_dn_V1_' + before_after + '.png')\n",
    "    plt.show()"
   ]
  },
  {
   "cell_type": "markdown",
   "metadata": {},
   "source": [
    "import os\n",
    "if not os.path.exists(directory):\n",
    "    os.makedirs(directory)# Define model"
   ]
  },
  {
   "cell_type": "code",
   "execution_count": null,
   "metadata": {},
   "outputs": [],
   "source": [
    "kernel_size = 100\n",
    "mean = 5\n",
    "stddev = 5\n",
    "\n",
    "res_net_blocks_couts = [1, 2, 5]\n",
    "epochs = [1, 50, 1000]\n",
    "training_dataset = tf.data.Dataset.from_tensor_slices((n.astype(np.float32), {'T': T.astype(np.float32), 'dT_dn': dT_dn.astype(np.float32)})).batch(100).repeat(10)\n",
    "\n",
    "for num_res_nat_blocks in res_net_blocks_couts:\n",
    "    for epoch in epochs:\n",
    "        model = ResNetConv1DModel(filter_size=32, kernel_size=100, layer_size=None, num_res_nat_blocks=4, weights_gaus=[5, 5], n_outputs=None, random_init=True, add_cont_layer=True, dx=1)\n",
    "\n",
    "        model.build(input_shape=(None, 500, 1))\n",
    "        model.compile(optimizer=tf.keras.optimizers.Adam(learning_rate=1e-3), \n",
    "                      loss={'T': 'mse', 'dT_dn': 'mse'}, \n",
    "                      loss_weights={'T': 0.2, 'dT_dn': 1.0}, # As recommended by Manuel: scale the loss in T by 0.2\n",
    "                      metrics={'T': ['mae'], 'dT_dn': ['mae']})\n",
    "        print('--------------------------------->Start<---------------------------------')\n",
    "        print(f'No Cont Layer. res_net {num_res_nat_blocks} with {epoch}')\n",
    "        result_type = '/ResNetConv1D/Conv/res_net_' + str(num_res_nat_blocks) + '_epoch_' + str(epoch) + '/'\n",
    "        \n",
    "        plot_weigts(model, result_type, 'before')\n",
    "        model.summary()\n",
    "        model.fit(training_dataset, epochs=epoch, verbose=2, validation_data=(n_test, {'T': T_test, 'dT_dn': dT_dn_test}), validation_freq=10)\n",
    "        plot_weigts(model, result_type, 'after')\n",
    "        print('--------------------------------->END<---------------------------------')\n"
   ]
  }
 ],
 "metadata": {
  "kernelspec": {
   "display_name": "Python 3",
   "language": "python",
   "name": "python3"
  },
  "language_info": {
   "codemirror_mode": {
    "name": "ipython",
    "version": 3
   },
   "file_extension": ".py",
   "mimetype": "text/x-python",
   "name": "python",
   "nbconvert_exporter": "python",
   "pygments_lexer": "ipython3",
   "version": "3.8.6"
  }
 },
 "nbformat": 4,
 "nbformat_minor": 4
}
