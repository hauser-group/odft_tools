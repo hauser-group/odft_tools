{
 "cells": [
  {
   "cell_type": "code",
   "execution_count": 1,
   "metadata": {},
   "outputs": [
    {
     "name": "stdout",
     "output_type": "stream",
     "text": [
      "(2, 120, 2)\n",
      "(2, 111, 3)\n"
     ]
    }
   ],
   "source": [
    "import numpy as np\n",
    "import tensorflow as tf\n",
    "from odft_tools.layers import ContinuousConv1D\n",
    "\n",
    "input_shape = (120, 2)\n",
    "x = tf.random.normal((2, 120, 2))\n",
    "print(np.shape(x))\n",
    "# y = ContinuousConv1D(32, 3, activation='relu', input_shape=input_shape[1:], mean=1, stddev=6)(x)\n",
    "y = ContinuousConv1D(filters=3, kernel_size=10, activation='relu', input_shape=input_shape, weights_init=[0, 6])(x)\n",
    "print(y.shape)"
   ]
  },
  {
   "cell_type": "code",
   "execution_count": null,
   "metadata": {},
   "outputs": [],
   "source": [
    "sdt = tf.Variable([[6] * 2] * 1)\n",
    "mean = tf.convert_to_tensor(value=[[0] * 2] * 1)\n",
    "test = tf.reshape(tf.concat([[mean, sdt]], 0), (2, 1, 2), name=None)\n",
    "\n",
    "print(np.asarray(test[0, :, :]))\n",
    "for i in test[0, :, :][0]:\n",
    "    print(i)\n",
    "# tf.reshape(test, (1, 2, 4))"
   ]
  },
  {
   "cell_type": "code",
   "execution_count": null,
   "metadata": {},
   "outputs": [],
   "source": [
    "from odft_tools.init_ops_v2 import VarianceScaling\n",
    "\n",
    "var = VarianceScaling()\n",
    "var.__call__(shape=(2, 3, 3))"
   ]
  },
  {
   "cell_type": "code",
   "execution_count": null,
   "metadata": {},
   "outputs": [],
   "source": []
  }
 ],
 "metadata": {
  "kernelspec": {
   "display_name": "Python 3",
   "language": "python",
   "name": "python3"
  },
  "language_info": {
   "codemirror_mode": {
    "name": "ipython",
    "version": 3
   },
   "file_extension": ".py",
   "mimetype": "text/x-python",
   "name": "python",
   "nbconvert_exporter": "python",
   "pygments_lexer": "ipython3",
   "version": "3.8.6"
  }
 },
 "nbformat": 4,
 "nbformat_minor": 4
}
