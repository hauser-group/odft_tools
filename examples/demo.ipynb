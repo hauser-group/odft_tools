{
 "cells": [
  {
   "cell_type": "code",
   "execution_count": 1,
   "metadata": {},
   "outputs": [],
   "source": [
    "import h5py\n",
    "import matplotlib.pyplot as plt\n",
    "import numpy as np\n",
    "import tensorflow as tf\n",
    "# from https://github.com/hauser-group/odft_tools\n",
    "from odft_tools.layers import IntegrateLayer"
   ]
  },
  {
   "cell_type": "markdown",
   "metadata": {},
   "source": [
    "# Load dataset\n",
    "Both data .hdf5-Files can be downloaded from https://github.com/hauser-group/datasets/tree/master/orbital_free_DFT"
   ]
  },
  {
   "cell_type": "markdown",
   "metadata": {},
   "source": [
    "### Training"
   ]
  },
  {
   "cell_type": "code",
   "execution_count": 2,
   "metadata": {},
   "outputs": [
    {
     "name": "stdout",
     "output_type": "stream",
     "text": [
      "<KeysViewHDF5 ['energies', 'potential', 'wavefunctions']>\n"
     ]
    }
   ],
   "source": [
    "with h5py.File('M=100_training_data.hdf5', 'r') as f:\n",
    "    keys = f.keys()\n",
    "    print(keys)\n",
    "    # build a dict (dataset.value has been deprecated. Use dataset[()] instead.)\n",
    "    data = {key:f[key][()] for key in keys}"
   ]
  },
  {
   "cell_type": "code",
   "execution_count": 3,
   "metadata": {},
   "outputs": [],
   "source": [
    "x = np.linspace(0, 1, 500)\n",
    "dx = x[1] - x[0]\n",
    "N = 1\n",
    "# density is wavefunction squared\n",
    "n = np.sum(data['wavefunctions'][:, :, :N]**2, axis=-1)\n",
    "# integrate using trapezoidal rule:\n",
    "V = np.sum(0.5*(data['potential'][:, :-1]*n[:, :-1] \n",
    "                + data['potential'][:, 1:]*n[:, 1:])           \n",
    "           * dx, axis=-1)\n",
    "# kinetic energy is total energy minus potential energy\n",
    "T = np.sum(data['energies'][:, :N], axis=-1) - V\n",
    "# kinetic energy derivative\n",
    "dT_dn = np.expand_dims(np.sum(data['energies'][:, :N], axis=-1)/N, axis=-1) - data['potential']\n",
    "n = n.reshape((-1, 500, 1))"
   ]
  },
  {
   "cell_type": "markdown",
   "metadata": {},
   "source": [
    "### Test Set"
   ]
  },
  {
   "cell_type": "code",
   "execution_count": 4,
   "metadata": {},
   "outputs": [
    {
     "name": "stdout",
     "output_type": "stream",
     "text": [
      "<KeysViewHDF5 ['energies', 'potential', 'wavefunctions']>\n"
     ]
    }
   ],
   "source": [
    "with h5py.File('test_data.hdf5', 'r') as f:\n",
    "    keys = f.keys()\n",
    "    print(keys)\n",
    "    # build a dict (dataset.value has been deprecated. Use dataset[()] instead.)\n",
    "    data_test = {key:f[key][()] for key in keys}"
   ]
  },
  {
   "cell_type": "code",
   "execution_count": 5,
   "metadata": {},
   "outputs": [],
   "source": [
    "# density is wavefunction squared\n",
    "n_test = np.sum(data_test['wavefunctions'][:, :, :N]**2, axis=-1)\n",
    "# integrate using trapezoidal rule:\n",
    "V_test = np.sum(0.5*(data_test['potential'][:, :-1]*n_test[:, :-1] \n",
    "                + data_test['potential'][:, 1:]*n_test[:, 1:])           \n",
    "                * dx, axis=-1)\n",
    "# kinetic energy is total energy minus potential energy\n",
    "T_test = np.sum(data_test['energies'][:, :N], axis=-1) - V_test\n",
    "# kinetic energy derivative\n",
    "dT_dn_test = - data_test['potential'] + np.expand_dims(np.sum(data_test['energies'][:, :N], axis=-1)/N, axis=-1) \n",
    "n_test = n_test.reshape((-1, 500, 1))"
   ]
  },
  {
   "cell_type": "markdown",
   "metadata": {},
   "source": [
    "# Define model"
   ]
  },
  {
   "cell_type": "code",
   "execution_count": 6,
   "metadata": {},
   "outputs": [],
   "source": [
    "class MyModel(tf.keras.Model):\n",
    "\n",
    "    def __init__(self, layers=[32,], kernel_size=64, dx=1.0):\n",
    "        super(MyModel, self).__init__()\n",
    "        self.dx = dx\n",
    "        self.conv_layers = []\n",
    "        for l in layers:\n",
    "            self.conv_layers.append(tf.keras.layers.Conv1D(l, kernel_size, padding='same', activation='softplus'))\n",
    "        # last layer is fixed to use a single filter\n",
    "        self.conv_layers.append(tf.keras.layers.Conv1D(1, kernel_size, padding='same', activation='linear'))\n",
    "        self.integrate = IntegrateLayer(dx)\n",
    "\n",
    "    @tf.function\n",
    "    def call(self, inputs):\n",
    "        with tf.GradientTape() as tape:\n",
    "            tape.watch(inputs)\n",
    "            # Calculate kinetic energy density tau by applying convolutional layers\n",
    "            tau = inputs\n",
    "            for layer in self.conv_layers:\n",
    "                tau = layer(tau)\n",
    "            # Kinetic energy T is integral over kinetiv energy density\n",
    "            T = self.integrate(tau)\n",
    "        # The discretized derivative needs to be divided by dx\n",
    "        dT_dn = tape.gradient(T, inputs)/self.dx\n",
    "        return {'T': T, 'dT_dn': dT_dn}"
   ]
  },
  {
   "cell_type": "code",
   "execution_count": 7,
   "metadata": {},
   "outputs": [],
   "source": [
    "# Feel free to use larger kernel size (Manuel used 100) and larger networks (Manuels ResNet used layers=[32, 32, 32, 32, 32, 32]).\n",
    "model = MyModel(layers=[32,], kernel_size=64, dx=dx)\n",
    "# Tell the model what input to expect. The first dimension (None) represents the batch size and remains undefinded.\n",
    "model.build(input_shape=(None, 500, 1))"
   ]
  },
  {
   "cell_type": "code",
   "execution_count": 8,
   "metadata": {},
   "outputs": [
    {
     "name": "stdout",
     "output_type": "stream",
     "text": [
      "Model: \"my_model\"\n",
      "_________________________________________________________________\n",
      "Layer (type)                 Output Shape              Param #   \n",
      "=================================================================\n",
      "conv1d (Conv1D)              multiple                  2080      \n",
      "_________________________________________________________________\n",
      "conv1d_1 (Conv1D)            multiple                  2049      \n",
      "_________________________________________________________________\n",
      "integrate_layer (IntegrateLa multiple                  0         \n",
      "=================================================================\n",
      "Total params: 4,129\n",
      "Trainable params: 4,129\n",
      "Non-trainable params: 0\n",
      "_________________________________________________________________\n"
     ]
    }
   ],
   "source": [
    "model.compile(optimizer=tf.keras.optimizers.Adam(learning_rate=1e-3), \n",
    "              loss={'T': 'mse', 'dT_dn': 'mse'}, \n",
    "              loss_weights={'T': 0.2, 'dT_dn': 1.0}, # As recommended by Manuel: scale the loss in T by 0.2\n",
    "              metrics={'T': ['mae'], 'dT_dn': ['mae']})\n",
    "model.summary()"
   ]
  },
  {
   "cell_type": "code",
   "execution_count": 9,
   "metadata": {},
   "outputs": [],
   "source": [
    "# Build a dataset that repeats the data (cast to float32) 10 times to reduce output in model.fit().\n",
    "# Note that this step is not necessary, you could simply feed the numpy arrays into the model.fit() method.\n",
    "training_dataset = tf.data.Dataset.from_tensor_slices((n.astype(np.float32), {'T': T.astype(np.float32), 'dT_dn': dT_dn.astype(np.float32)})).batch(100).repeat(10)"
   ]
  },
  {
   "cell_type": "code",
   "execution_count": 10,
   "metadata": {},
   "outputs": [
    {
     "name": "stdout",
     "output_type": "stream",
     "text": [
      "Epoch 1/50\n",
      "10/10 - 8s - loss: 21.3169 - T_loss: 9.3163 - dT_dn_loss: 19.4537 - T_mae: 2.7912 - dT_dn_mae: 3.2944\n",
      "Epoch 2/50\n",
      "10/10 - 8s - loss: 16.1458 - T_loss: 1.2006 - dT_dn_loss: 15.9057 - T_mae: 0.7640 - dT_dn_mae: 2.9781\n",
      "Epoch 3/50\n",
      "10/10 - 8s - loss: 11.9761 - T_loss: 1.6276 - dT_dn_loss: 11.6506 - T_mae: 1.1930 - dT_dn_mae: 2.6402\n",
      "Epoch 4/50\n",
      "10/10 - 8s - loss: 11.0431 - T_loss: 0.2355 - dT_dn_loss: 10.9960 - T_mae: 0.4368 - dT_dn_mae: 2.6521\n",
      "Epoch 5/50\n",
      "10/10 - 8s - loss: 10.2160 - T_loss: 0.1635 - dT_dn_loss: 10.1833 - T_mae: 0.3475 - dT_dn_mae: 2.5286\n",
      "Epoch 6/50\n",
      "10/10 - 8s - loss: 9.6676 - T_loss: 0.5036 - dT_dn_loss: 9.5669 - T_mae: 0.6619 - dT_dn_mae: 2.4262\n",
      "Epoch 7/50\n",
      "10/10 - 8s - loss: 9.2230 - T_loss: 0.1135 - dT_dn_loss: 9.2003 - T_mae: 0.2751 - dT_dn_mae: 2.4121\n",
      "Epoch 8/50\n",
      "10/10 - 8s - loss: 8.9001 - T_loss: 0.0766 - dT_dn_loss: 8.8848 - T_mae: 0.2400 - dT_dn_mae: 2.3737\n",
      "Epoch 9/50\n",
      "10/10 - 8s - loss: 8.6256 - T_loss: 0.1040 - dT_dn_loss: 8.6048 - T_mae: 0.2919 - dT_dn_mae: 2.3359\n",
      "Epoch 10/50\n",
      "10/10 - 12s - loss: 8.3816 - T_loss: 0.0396 - dT_dn_loss: 8.3736 - T_mae: 0.1775 - dT_dn_mae: 2.3125 - val_loss: 8.1127 - val_T_loss: 0.0696 - val_dT_dn_loss: 8.0988 - val_T_mae: 0.2438 - val_dT_dn_mae: 2.2456\n",
      "Epoch 11/50\n",
      "10/10 - 8s - loss: 8.1484 - T_loss: 0.0597 - dT_dn_loss: 8.1364 - T_mae: 0.2200 - dT_dn_mae: 2.2800\n",
      "Epoch 12/50\n",
      "10/10 - 8s - loss: 7.8860 - T_loss: 0.0399 - dT_dn_loss: 7.8780 - T_mae: 0.1795 - dT_dn_mae: 2.2466\n",
      "Epoch 13/50\n",
      "10/10 - 9s - loss: 7.4550 - T_loss: 0.0511 - dT_dn_loss: 7.4448 - T_mae: 0.2041 - dT_dn_mae: 2.1881\n",
      "Epoch 14/50\n",
      "10/10 - 9s - loss: 6.6181 - T_loss: 0.0483 - dT_dn_loss: 6.6085 - T_mae: 0.2000 - dT_dn_mae: 2.0721\n",
      "Epoch 15/50\n",
      "10/10 - 9s - loss: 5.2505 - T_loss: 0.0465 - dT_dn_loss: 5.2412 - T_mae: 0.2006 - dT_dn_mae: 1.8587\n",
      "Epoch 16/50\n",
      "10/10 - 9s - loss: 3.6997 - T_loss: 0.0237 - dT_dn_loss: 3.6949 - T_mae: 0.1434 - dT_dn_mae: 1.5528\n",
      "Epoch 17/50\n",
      "10/10 - 9s - loss: 2.9605 - T_loss: 0.0881 - dT_dn_loss: 2.9428 - T_mae: 0.2516 - dT_dn_mae: 1.3574\n",
      "Epoch 18/50\n",
      "10/10 - 9s - loss: 2.8087 - T_loss: 0.0575 - dT_dn_loss: 2.7972 - T_mae: 0.2119 - dT_dn_mae: 1.3154\n",
      "Epoch 19/50\n",
      "10/10 - 9s - loss: 2.7478 - T_loss: 0.0216 - dT_dn_loss: 2.7435 - T_mae: 0.1321 - dT_dn_mae: 1.3004\n",
      "Epoch 20/50\n",
      "10/10 - 14s - loss: 2.7027 - T_loss: 0.0081 - dT_dn_loss: 2.7011 - T_mae: 0.0775 - dT_dn_mae: 1.2892 - val_loss: 2.6158 - val_T_loss: 0.0022 - val_dT_dn_loss: 2.6153 - val_T_mae: 0.0390 - val_dT_dn_mae: 1.2398\n",
      "Epoch 21/50\n",
      "10/10 - 10s - loss: 2.6686 - T_loss: 0.0038 - dT_dn_loss: 2.6679 - T_mae: 0.0508 - dT_dn_mae: 1.2796\n",
      "Epoch 22/50\n",
      "10/10 - 10s - loss: 2.6423 - T_loss: 0.0025 - dT_dn_loss: 2.6418 - T_mae: 0.0401 - dT_dn_mae: 1.2717\n",
      "Epoch 23/50\n",
      "10/10 - 10s - loss: 2.6201 - T_loss: 0.0020 - dT_dn_loss: 2.6197 - T_mae: 0.0372 - dT_dn_mae: 1.2644\n",
      "Epoch 24/50\n",
      "10/10 - 11s - loss: 2.6002 - T_loss: 0.0017 - dT_dn_loss: 2.5999 - T_mae: 0.0352 - dT_dn_mae: 1.2576\n",
      "Epoch 25/50\n",
      "10/10 - 13s - loss: 2.5819 - T_loss: 0.0016 - dT_dn_loss: 2.5816 - T_mae: 0.0337 - dT_dn_mae: 1.2510\n",
      "Epoch 26/50\n",
      "10/10 - 11s - loss: 2.5649 - T_loss: 0.0015 - dT_dn_loss: 2.5646 - T_mae: 0.0332 - dT_dn_mae: 1.2447\n",
      "Epoch 27/50\n",
      "10/10 - 11s - loss: 2.5493 - T_loss: 0.0015 - dT_dn_loss: 2.5490 - T_mae: 0.0329 - dT_dn_mae: 1.2388\n",
      "Epoch 28/50\n",
      "10/10 - 11s - loss: 2.5350 - T_loss: 0.0014 - dT_dn_loss: 2.5347 - T_mae: 0.0321 - dT_dn_mae: 1.2333\n",
      "Epoch 29/50\n",
      "10/10 - 11s - loss: 2.5218 - T_loss: 0.0014 - dT_dn_loss: 2.5215 - T_mae: 0.0319 - dT_dn_mae: 1.2280\n",
      "Epoch 30/50\n",
      "10/10 - 16s - loss: 2.5097 - T_loss: 0.0014 - dT_dn_loss: 2.5094 - T_mae: 0.0314 - dT_dn_mae: 1.2231 - val_loss: 2.4517 - val_T_loss: 0.0017 - val_dT_dn_loss: 2.4514 - val_T_mae: 0.0328 - val_dT_dn_mae: 1.1841\n",
      "Epoch 31/50\n",
      "10/10 - 11s - loss: 2.4985 - T_loss: 0.0014 - dT_dn_loss: 2.4982 - T_mae: 0.0310 - dT_dn_mae: 1.2185\n",
      "Epoch 32/50\n",
      "10/10 - 11s - loss: 2.4882 - T_loss: 0.0013 - dT_dn_loss: 2.4880 - T_mae: 0.0307 - dT_dn_mae: 1.2141\n",
      "Epoch 33/50\n",
      "10/10 - 12s - loss: 2.4788 - T_loss: 0.0013 - dT_dn_loss: 2.4785 - T_mae: 0.0304 - dT_dn_mae: 1.2098\n",
      "Epoch 34/50\n",
      "10/10 - 13s - loss: 2.4701 - T_loss: 0.0013 - dT_dn_loss: 2.4698 - T_mae: 0.0302 - dT_dn_mae: 1.2058\n",
      "Epoch 35/50\n",
      "10/10 - 12s - loss: 2.4620 - T_loss: 0.0013 - dT_dn_loss: 2.4617 - T_mae: 0.0299 - dT_dn_mae: 1.2020\n",
      "Epoch 36/50\n",
      "10/10 - 12s - loss: 2.4546 - T_loss: 0.0013 - dT_dn_loss: 2.4543 - T_mae: 0.0297 - dT_dn_mae: 1.1982\n",
      "Epoch 37/50\n",
      "10/10 - 12s - loss: 2.4478 - T_loss: 0.0013 - dT_dn_loss: 2.4475 - T_mae: 0.0299 - dT_dn_mae: 1.1947\n",
      "Epoch 38/50\n",
      "10/10 - 12s - loss: 2.4837 - T_loss: 0.0464 - dT_dn_loss: 2.4744 - T_mae: 0.1631 - dT_dn_mae: 1.2022\n",
      "Epoch 39/50\n",
      "10/10 - 12s - loss: 2.4706 - T_loss: 0.0384 - dT_dn_loss: 2.4630 - T_mae: 0.1686 - dT_dn_mae: 1.1969\n",
      "Epoch 40/50\n",
      "10/10 - 18s - loss: 2.4453 - T_loss: 0.0159 - dT_dn_loss: 2.4421 - T_mae: 0.1118 - dT_dn_mae: 1.1894 - val_loss: 2.3995 - val_T_loss: 0.0106 - val_dT_dn_loss: 2.3974 - val_T_mae: 0.0958 - val_dT_dn_mae: 1.1572\n",
      "Epoch 41/50\n",
      "10/10 - 12s - loss: 2.4328 - T_loss: 0.0061 - dT_dn_loss: 2.4316 - T_mae: 0.0640 - dT_dn_mae: 1.1848\n",
      "Epoch 42/50\n",
      "10/10 - 14s - loss: 2.4264 - T_loss: 0.0031 - dT_dn_loss: 2.4258 - T_mae: 0.0471 - dT_dn_mae: 1.1819\n",
      "Epoch 43/50\n",
      "10/10 - 14s - loss: 2.4221 - T_loss: 0.0018 - dT_dn_loss: 2.4218 - T_mae: 0.0341 - dT_dn_mae: 1.1795\n",
      "Epoch 44/50\n",
      "10/10 - 13s - loss: 2.4188 - T_loss: 0.0014 - dT_dn_loss: 2.4185 - T_mae: 0.0299 - dT_dn_mae: 1.1773\n",
      "Epoch 45/50\n",
      "10/10 - 13s - loss: 2.4160 - T_loss: 0.0012 - dT_dn_loss: 2.4158 - T_mae: 0.0291 - dT_dn_mae: 1.1754\n",
      "Epoch 46/50\n",
      "10/10 - 13s - loss: 2.4136 - T_loss: 0.0012 - dT_dn_loss: 2.4134 - T_mae: 0.0281 - dT_dn_mae: 1.1736\n",
      "Epoch 47/50\n",
      "10/10 - 13s - loss: 2.4115 - T_loss: 0.0011 - dT_dn_loss: 2.4113 - T_mae: 0.0277 - dT_dn_mae: 1.1720\n",
      "Epoch 48/50\n",
      "10/10 - 13s - loss: 2.4096 - T_loss: 0.0011 - dT_dn_loss: 2.4093 - T_mae: 0.0275 - dT_dn_mae: 1.1705\n",
      "Epoch 49/50\n",
      "10/10 - 13s - loss: 2.4079 - T_loss: 0.0011 - dT_dn_loss: 2.4076 - T_mae: 0.0274 - dT_dn_mae: 1.1692\n",
      "Epoch 50/50\n",
      "10/10 - 21s - loss: 2.4063 - T_loss: 0.0011 - dT_dn_loss: 2.4061 - T_mae: 0.0273 - dT_dn_mae: 1.1679 - val_loss: 2.3456 - val_T_loss: 0.0014 - val_dT_dn_loss: 2.3453 - val_T_mae: 0.0286 - val_dT_dn_mae: 1.1339\n"
     ]
    },
    {
     "data": {
      "text/plain": [
       "<tensorflow.python.keras.callbacks.History at 0x7f94575a5278>"
      ]
     },
     "execution_count": 10,
     "metadata": {},
     "output_type": "execute_result"
    }
   ],
   "source": [
    "# Beware when comparing the results to our paper. The output here is in Hartree!\n",
    "model.fit(training_dataset, epochs=50, verbose=2, validation_data=(n_test, {'T': T_test, 'dT_dn': dT_dn_test}), validation_freq=10)"
   ]
  },
  {
   "cell_type": "markdown",
   "metadata": {},
   "source": [
    "## Inspect results\n",
    "The prediction by the CNN exhibits rapid oscillations, which we hope to eliminate by going from a convolution with a discrete kernel towards a convolution with a continuous function"
   ]
  },
  {
   "cell_type": "code",
   "execution_count": 11,
   "metadata": {},
   "outputs": [
    {
     "data": {
      "text/plain": [
       "[<matplotlib.lines.Line2D at 0x7f945473d908>]"
      ]
     },
     "execution_count": 11,
     "metadata": {},
     "output_type": "execute_result"
    },
    {
     "data": {
      "image/png": "[encoded data removed]",
      "text/plain": [
       "<Figure size 432x288 with 1 Axes>"
      ]
     },
     "metadata": {
      "needs_background": "light"
     },
     "output_type": "display_data"
    }
   ],
   "source": [
    "plt.plot(x, dT_dn[0])\n",
    "plt.plot(x, tf.squeeze(model(n[0].reshape((1, 500, 1)).astype(np.float32))['dT_dn']))"
   ]
  },
  {
   "cell_type": "code",
   "execution_count": null,
   "metadata": {},
   "outputs": [],
   "source": []
  }
 ],
 "metadata": {
  "kernelspec": {
   "display_name": "py37",
   "language": "python",
   "name": "py37"
  },
  "language_info": {
   "codemirror_mode": {
    "name": "ipython",
    "version": 3
   },
   "file_extension": ".py",
   "mimetype": "text/x-python",
   "name": "python",
   "nbconvert_exporter": "python",
   "pygments_lexer": "ipython3",
   "version": "3.7.3"
  }
 },
 "nbformat": 4,
 "nbformat_minor": 4
}
