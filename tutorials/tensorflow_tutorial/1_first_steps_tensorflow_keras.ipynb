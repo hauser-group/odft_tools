{
 "cells": [
  {
   "cell_type": "markdown",
   "id": "6fa4c81d-0dfa-4776-9ce9-045103ffccf4",
   "metadata": {},
   "source": [
    "# How to tensorflow/keras?"
   ]
  },
  {
   "cell_type": "markdown",
   "id": "d76d4ddc-0744-48d7-b55b-467115ac722a",
   "metadata": {},
   "source": [
    "## First. Whats the difference?\n",
    "\n",
    "**TensorFlow** is an open-source (from google) machine learning platform and symbolic mathematical library used for machine learning applications.\n",
    "\n",
    "**Keras** is an open-source neural network library built on top of Tensorflow. It is fast and easy to use, So good for prototyping (not only prototyping).\n",
    "\n",
    "**Tensorflow advantages:**\n",
    "- Good and great community support.\n",
    "- Debugging the sub-part of the graphs is possible\n",
    "- You can easily extend, change and add the code\n",
    "\n",
    "**Keras advantages:**\n",
    "- You can easily construct and train neural networks\n",
    "- API is user friendly\n",
    "- Good community support on stack overflow\n",
    "\n",
    "**So what do I choose and when?**\n",
    "- If you have large datasets and you want high performance, use tensorflow.\n",
    "- If you want to change something in the code or add custom code, use tensorflow.\n",
    "- If you want to inspect/debugg graphs, use tensorflow.\n",
    "- If you have small datasets and want to build neural networks fast which do not demand something special or some hacking, use keras."
   ]
  },
  {
   "cell_type": "markdown",
   "id": "7a1ff1a7-30eb-49a0-9c91-0ba4f7014528",
   "metadata": {
    "tags": []
   },
   "source": [
    "## How to install and run tensorflow/keras?\n",
    "\n",
    "Depending on what you want to do.\n",
    "\n",
    "If you want to train your machine learning model on a GPU, follow this instrucion https://www.tensorflow.org/install/gpu closely and carefull. Check out the steps first and then start.\n",
    "\n",
    "If you have access to a cluster (nice), check which python version is installed and which keras/tensorflow version is used before you start coding. Why? Different versions of keras/tensorflow have different syntax.\n",
    "\n",
    "**There are two packages available for tensorflow:**\n",
    "- tensorflow —Latest stable release with CPU and GPU support (Ubuntu and Windows)\n",
    "- tf-nightly —Preview build (unstable) with GPU support (Ubuntu and Windows)\n",
    "\n",
    "\n",
    "If you are using a windows os, you can get an linux kernel on yout windows os easy with WSL\n",
    "\n",
    "### WSL? What? Why?\n",
    "Windows Subsystem for Linux (WSL). With WSL you will get a real linux kernel on your windwos os. wow.\n",
    "- https://www.computerhope.com/jargon/w/wsl.htm <br>\n",
    "\n",
    "You will have access to a linux kernel/os via a terminal. And speaking of terminals. \n",
    "This one is approved as beeing usefull and easy good whith windows os: <br>\n",
    "- https://www.microsoft.com/en-US/p/windows-terminal/9n0dx20hk701?activetab=pivot:overviewtab <br>\n",
    "\n",
    "If you plan to use several versions of python/tensorflow/keras get in touch with virtual envoirments and if not, still use virtual envoirments : <br>\n",
    "- https://docs.python.org/3/tutorial/venv.html"
   ]
  },
  {
   "cell_type": "markdown",
   "id": "0a59ef90-23fd-4111-ba43-70ba8ffa87c6",
   "metadata": {},
   "source": [
    "## Installing tensorflow\n",
    "\n",
    "Go to your Linux termimal and check your python and pip version:\n",
    "``` bash\n",
    "python3 --version\n",
    "pip3 --version\n",
    "```\n",
    "\n",
    "If you get an output with the version, then you don't need to do the following packages:\n",
    "``` bash\n",
    "sudo apt update\n",
    "sudo apt install python3-dev python3-pip python3-venv\n",
    "```\n",
    "\n",
    "\n",
    "Now, you can create a virtual envoirement in the dircetory of your project:\n",
    "``` bash\n",
    "python -m .venv\n",
    "```\n",
    "After this, you can activate the virtual envoirement:\n",
    "``` bash\n",
    "source .venv/bin/activate\n",
    "\n",
    "```\n",
    "\n",
    "If the virtual envoirement is activated, every package you install, is going to be in this envoirement. So, to be able to use the packagaes in your project, the envoirement need to be activated.<br>\n",
    "You can deactivate the envoirement with:\n",
    "``` bash\n",
    "deactivate\n",
    "\n",
    "```\n",
    "\n",
    "And now, finally, you can install tensorflow with:\n",
    "``` bash\n",
    "pip install --upgrade tensorflow\n",
    "\n",
    "```\n",
    "or\n",
    "``` bash\n",
    "pip install --upgrade tf-nightly\n",
    "```\n",
    "\n",
    "### What is Cuda and why do I need it?\n",
    "\n",
    "CUDA is a programming interface (API) and parallel computing platform\n",
    "developed by Nvidia and used for general purpose computing on graph-\n",
    "ics processing units (GPGPU). With the CUDA platform (a software layer)\n",
    "it is possible to get direct access to the GPU’s virtual instruction set and\n",
    "parallel computing elements.\n",
    "\n",
    "So basically CUDA is the thing that lets you run your machine learning code on a GPU. And Tensorflow/Keras support it.\n",
    "But, checkout if CUDA suppurts your GPU. Would be a shame if not."
   ]
  },
  {
   "cell_type": "markdown",
   "id": "546343f4-4c64-47d3-9ae0-7eabe77ee2b3",
   "metadata": {},
   "source": [
    "## Hot to install keras?\n",
    "\n",
    "Keras is depending on the following python libraries:\n",
    "- Numpy\n",
    "- Pandas\n",
    "- Matplotlib\n",
    "- Scipy\n",
    "- Seaborn\n",
    "- Scikit-learn\n",
    "\n",
    "\n",
    "To install these packages, enter this commands in your terminal:\n",
    "``` bash\n",
    "pip install numpy\n",
    "pip install pandas\n",
    "pip install matplotlib\n",
    "pip install scipy\n",
    "pip install seaborn\n",
    "pip install -U scikit-learn\n",
    "```\n",
    "and then:\n",
    "``` bash\n",
    "pip install keras\n",
    "```"
   ]
  },
  {
   "cell_type": "markdown",
   "id": "2987b3ca-4f9d-4e37-9d65-a20e725acedd",
   "metadata": {},
   "source": [
    "## Google Collab\n",
    "\n",
    "If you want to start with tutorials and try first machine learning models without setting up all the stuff, you can use:\n",
    "- https://colab.research.google.com/\n",
    "\n",
    "Everyhing you need to run machine learning models etc. based on tensorflowe/keras, is already set up and you can use limmited GPUs from google."
   ]
  }
 ],
 "metadata": {
  "kernelspec": {
   "display_name": "Python 3",
   "language": "python",
   "name": "python3"
  },
  "language_info": {
   "codemirror_mode": {
    "name": "ipython",
    "version": 3
   },
   "file_extension": ".py",
   "mimetype": "text/x-python",
   "name": "python",
   "nbconvert_exporter": "python",
   "pygments_lexer": "ipython3",
   "version": "3.8.12"
  }
 },
 "nbformat": 4,
 "nbformat_minor": 5
}
